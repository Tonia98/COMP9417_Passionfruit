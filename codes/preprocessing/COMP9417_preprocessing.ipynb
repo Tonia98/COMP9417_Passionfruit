{
 "cells": [
  {
   "attachments": {},
   "cell_type": "markdown",
   "metadata": {},
   "source": [
    "You need to download lastest.pth under folder\n",
    "\n",
    "preprocessing\n",
    "\n",
    "https://drive.google.com/file/d/1UOfdd6X83Jl9Sex-7fA9gmzCjqDqJUFz/view?usp=sharing\n",
    "\n",
    "then run the code below."
   ]
  },
  {
   "cell_type": "code",
   "execution_count": 1,
   "metadata": {},
   "outputs": [],
   "source": [
    "import os\n",
    "os.chdir(r\"./mmsegmentation\")"
   ]
  },
  {
   "cell_type": "code",
   "execution_count": 2,
   "metadata": {},
   "outputs": [],
   "source": [
    "from matplotlib import pyplot as plt\n",
    "from mmseg.apis import inference_segmentor, init_segmentor\n",
    "import mmcv\n",
    "import numpy as np\n",
    "import cv2\n",
    "from PIL import Image,ImageChops\n",
    "os.environ[\"KMP_DUPLICATE_LIB_OK\"]=\"TRUE\""
   ]
  },
  {
   "attachments": {},
   "cell_type": "markdown",
   "metadata": {},
   "source": [
    "#### You need to  change the path here"
   ]
  },
  {
   "cell_type": "code",
   "execution_count": 3,
   "metadata": {},
   "outputs": [],
   "source": [
    "#data_dir is the path of the original image\n",
    "data_dir = r\"D:\\unsw\\seg\\1\\mmsegmentation-0.20.2\\mmsegmentation-0.20.2\\tools\\output\\validation\\Hispa\"\n",
    "#output_dir is the path of the output image you want to save\n",
    "output_dir = r\"..\\\\output\""
   ]
  },
  {
   "attachments": {},
   "cell_type": "markdown",
   "metadata": {},
   "source": [
    "#### You can run the following code to generate preprocessed image."
   ]
  },
  {
   "cell_type": "code",
   "execution_count": 4,
   "metadata": {},
   "outputs": [],
   "source": [
    "def seg(img_path):\n",
    "    config_file = r'.\\my_deeplabv3plus_r50-d8_480x480_40k_pascal_context.py'\n",
    "    checkpoint_file = r'..\\latest.pth'\n",
    "    model = init_segmentor(config_file, checkpoint_file, device='cuda:0')\n",
    "    result = inference_segmentor(model, img_path)\n",
    "    seg = result[0]\n",
    "    img = mmcv.imread(img_path)\n",
    "    img1 = img.copy()\n",
    "    img1[seg == 0, :] = [0,0,0]\n",
    "    img1 = img1.astype(np.uint8)\n",
    "    img1 = Image.fromarray(np.uint8(img1))\n",
    "    img1 = cv2.cvtColor(np.array(img1), cv2.COLOR_RGB2BGR)\n",
    "    return img1\n",
    "def rotate_and_fill(image, angle, fill_color):\n",
    "    radian = np.deg2rad(angle)\n",
    "    width, height = image.size\n",
    "    cos_val = abs(np.cos(radian))\n",
    "    sin_val = abs(np.sin(radian))\n",
    "    new_width = int(width * cos_val + height * sin_val)\n",
    "    new_height = int(width * sin_val + height * cos_val)\n",
    "    \n",
    "    # if isinstance(fill_color, tuple):\n",
    "    #     fill_color = tuple(np.array(fill_color, dtype=np.uint8))\n",
    "    # else:\n",
    "    #     fill_color = tuple(np.array([fill_color]*3, dtype=np.uint8))\n",
    "    \n",
    "\n",
    "    rotated_image = Image.new(image.mode, (new_width, new_height), fill_color)\n",
    "    x = int((new_width - width) / 2)\n",
    "    y = int((new_height - height) / 2)\n",
    "    rotated_image.paste(image, (x, y))\n",
    "    rotated_image = rotated_image.rotate(angle, expand=False)\n",
    "    \n",
    "    return rotated_image\n",
    "def array_to_image(array):\n",
    "    return Image.fromarray(np.uint8(array))\n",
    "def image_to_array(image):\n",
    "    return np.array(image)\n",
    "def process_image(img):\n",
    "    bg = Image.new(img.mode, img.size, img.getpixel((0,0)))\n",
    "    diff = ImageChops.difference(img, bg)\n",
    "    diff = ImageChops.add(diff, diff, 2.0, -100)\n",
    "    bbox = diff.getbbox()\n",
    "\n",
    "    img = img.crop(bbox)\n",
    "    # img = cv2.cvtColor(np.array(img), cv2.COLOR_RGB2BGR)\n",
    "    # mask = ((img[:,:,0] > 150) & (img[:,:,1] <200) & (img[:,:,2] > 150)) | ((img[:,:,0] < 120) & (img[:,:,1] < 20) & (img[:,:,2] < 40))\n",
    "    # img[mask] = [0, 0, 0]\n",
    "    # img = Image.fromarray(cv2.cvtColor(img, cv2.COLOR_BGR2RGB))\n",
    "    width, height = img.size\n",
    "    if width > height:\n",
    "        img = img.transpose(Image.ROTATE_90)\n",
    "    width, height = img.size\n",
    "    if width>height/2:\n",
    "        img = rotate_and_fill(img, angle=45, fill_color=(0,0,0))\n",
    "        bg = Image.new(img.mode, img.size, img.getpixel((0,0)))\n",
    "        diff = ImageChops.difference(img, bg)\n",
    "        diff = ImageChops.add(diff, diff, 2.0, -100)\n",
    "        bbox = diff.getbbox()\n",
    "        img = img.crop(bbox)\n",
    "        width, height = img.size\n",
    "        if width > height:\n",
    "            img = img.transpose(Image.ROTATE_90)\n",
    "    return img\n",
    "def process_image1(img_path):\n",
    "    img1 = seg(img_path)\n",
    "    img1 = array_to_image(img1)\n",
    "    img1 = process_image(img1)\n",
    "    img1 = image_to_array(img1)\n",
    "    img1 = cv2.cvtColor(img1, cv2.COLOR_BGR2RGB)\n",
    "    return img1"
   ]
  },
  {
   "cell_type": "code",
   "execution_count": 5,
   "metadata": {},
   "outputs": [
    {
     "name": "stdout",
     "output_type": "stream",
     "text": [
      "load checkpoint from local path: ..\\latest.pth\n",
      "load checkpoint from local path: ..\\latest.pth\n",
      "load checkpoint from local path: ..\\latest.pth\n",
      "load checkpoint from local path: ..\\latest.pth\n",
      "load checkpoint from local path: ..\\latest.pth\n",
      "load checkpoint from local path: ..\\latest.pth\n"
     ]
    }
   ],
   "source": [
    "for filename in os.listdir(data_dir):\n",
    "    img = process_image1(rf\"{data_dir}\\\\{filename}\")\n",
    "    cv2.imwrite(rf\"{output_dir}\\\\{filename}\", img)"
   ]
  }
 ],
 "metadata": {
  "kernelspec": {
   "display_name": "base",
   "language": "python",
   "name": "python3"
  },
  "language_info": {
   "codemirror_mode": {
    "name": "ipython",
    "version": 3
   },
   "file_extension": ".py",
   "mimetype": "text/x-python",
   "name": "python",
   "nbconvert_exporter": "python",
   "pygments_lexer": "ipython3",
   "version": "3.9.12"
  },
  "orig_nbformat": 4
 },
 "nbformat": 4,
 "nbformat_minor": 2
}
