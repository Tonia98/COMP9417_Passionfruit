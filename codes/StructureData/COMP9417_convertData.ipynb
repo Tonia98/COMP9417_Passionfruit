{
  "nbformat": 4,
  "nbformat_minor": 0,
  "metadata": {
    "colab": {
      "provenance": []
    },
    "kernelspec": {
      "name": "python3",
      "display_name": "Python 3"
    },
    "language_info": {
      "name": "python"
    }
  },
  "cells": [
    {
      "cell_type": "markdown",
      "source": [
        "# Split & Convert Dataset"
      ],
      "metadata": {
        "id": "7WXGmGD6gRkb"
      }
    },
    {
      "cell_type": "markdown",
      "source": [
        "In this notebook, we split the whole dataset into training set, validation set, and testing set in the ratio of 8 : 1 : 1. Then we converted the unstructured image dataset into structured csv files."
      ],
      "metadata": {
        "id": "wAbs9hnQgdEJ"
      }
    },
    {
      "cell_type": "code",
      "execution_count": null,
      "metadata": {
        "id": "KFUejZ2_pTVK"
      },
      "outputs": [],
      "source": [
        "import os\n",
        "import pandas as pd\n",
        "from torchvision import transforms\n",
        "from torchvision.datasets import ImageFolder\n",
        "from torch.utils.data import DataLoader, random_split"
      ]
    },
    {
      "cell_type": "code",
      "source": [
        "DIR_DATA = \"drive/MyDrive/COMP9417/data/PreprocessedData/train\"\n",
        "DIR_CSV = \"drive/MyDrive/COMP9417/data/\""
      ],
      "metadata": {
        "id": "VC3ju9lnwPRo"
      },
      "execution_count": null,
      "outputs": []
    },
    {
      "cell_type": "code",
      "source": [
        "transform = transforms.Compose([\n",
        "    transforms.Resize((224, 224)),\n",
        "    transforms.ToTensor()\n",
        "])"
      ],
      "metadata": {
        "id": "Jfjs-yH4wWSs"
      },
      "execution_count": null,
      "outputs": []
    },
    {
      "cell_type": "code",
      "source": [
        "dataset = ImageFolder(root=DIR_DATA, transform=transform)"
      ],
      "metadata": {
        "id": "A6sPBVvHwZg0"
      },
      "execution_count": null,
      "outputs": []
    },
    {
      "cell_type": "markdown",
      "source": [
        "Split the whole dataset"
      ],
      "metadata": {
        "id": "YKJ5Z2Y6g2Ti"
      }
    },
    {
      "cell_type": "code",
      "source": [
        "train_size = int(0.8 * len(dataset))\n",
        "val_size = int(0.1 * len(dataset))\n",
        "test_size = len(dataset) - train_size - val_size\n",
        "\n",
        "train_data, val_data, test_data = random_split(dataset, [train_size, val_size, test_size])"
      ],
      "metadata": {
        "id": "mQqOk4XDxzrb"
      },
      "execution_count": null,
      "outputs": []
    },
    {
      "cell_type": "markdown",
      "source": [
        "Convert the dataset into sturctured format and save to local machine"
      ],
      "metadata": {
        "id": "HYnGHKvfg7-2"
      }
    },
    {
      "cell_type": "code",
      "source": [
        "def convert_data(data):\n",
        "  indexes = []\n",
        "  classes = []\n",
        "  paths = []\n",
        "  for idx, (image, label) in enumerate(data):\n",
        "    indexes.append(idx)\n",
        "    classes.append(dataset.classes[label])\n",
        "    paths.append(dataset.imgs[data.indices[idx]][0])\n",
        "  result = pd.DataFrame({'index': indexes, 'class': classes, 'path': paths})\n",
        "  return result"
      ],
      "metadata": {
        "id": "Iy_Or-cJwhkW"
      },
      "execution_count": null,
      "outputs": []
    },
    {
      "cell_type": "code",
      "source": [
        "df_train = convert_data(train_data)\n",
        "df_val = convert_data(val_data)\n",
        "df_test = convert_data(test_data)"
      ],
      "metadata": {
        "id": "IMXxTVdHyP6c"
      },
      "execution_count": null,
      "outputs": []
    },
    {
      "cell_type": "code",
      "source": [
        "df_train.to_csv(DIR_CSV+'train_data.csv', index=False)\n",
        "df_val.to_csv(DIR_CSV+'val_data.csv', index=False)\n",
        "df_test.to_csv(DIR_CSV+'test_data.csv', index=False)"
      ],
      "metadata": {
        "id": "KmUEKJvnyw0e"
      },
      "execution_count": null,
      "outputs": []
    }
  ]
}